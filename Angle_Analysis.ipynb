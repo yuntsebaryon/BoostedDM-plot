{
 "cells": [
  {
   "cell_type": "code",
   "execution_count": 1,
   "metadata": {},
   "outputs": [
    {
     "name": "stdout",
     "output_type": "stream",
     "text": [
      "Welcome to JupyROOT 6.12/06\n"
     ]
    }
   ],
   "source": [
    "import ROOT\n",
    "import math\n",
    "ROOT.gStyle.SetOptStat(0)\n",
    "f = ROOT.TFile(\"/Users/dstocks/work/BoostedDM-gallery/srcs/MCParticleDistributionsTEST.root\", \"READ\")"
   ]
  },
  {
   "cell_type": "code",
   "execution_count": 2,
   "metadata": {},
   "outputs": [],
   "source": [
    "t = f.Get(\"MCParticles\")\n",
    "particles = ['Proton', 'Neutron', 'Pion', 'Pi0', 'Meson', 'Baryon']"
   ]
  },
  {
   "cell_type": "markdown",
   "metadata": {},
   "source": [
    "# Angle Histograms\n",
    "Generate data to display three separate histograms. The histograms we are interested in are as follows:\n",
    "\n",
    "1) Angle between total final state momentum (vec) and DM momentum (vec).\n",
    "    -- do this for a) include all particles\n",
    "                   b) exclude neutrons\n",
    "                   \n",
    "2) Angle between leading particle momentum and DM momentum. --do this for both (a) and (b)\n",
    "\n",
    "3) Angle between leading proton momentum and DM momentum."
   ]
  },
  {
   "cell_type": "code",
   "execution_count": 3,
   "metadata": {},
   "outputs": [],
   "source": [
    "total_P_ang = []\n",
    "total_P_noneu_ang = []\n",
    "lead_particle_P_ang = []\n",
    "lead_particle_P_noneu_ang = []\n",
    "lead_proton_P_ang = []\n",
    "\n",
    "n_only_ev = 0\n",
    "test2 = 0\n",
    "test3 = 0\n",
    "\n",
    "for i in t:\n",
    "    \n",
    "    # in this section, we fill total_p_ang, lead_particle_ang, total_p_noneu_ang, and lead_particle_noneu_ang\n",
    "    # -----------------------------------------------------------\n",
    "    total_P = 0\n",
    "    total_Px = 0\n",
    "    total_Py = 0\n",
    "    total_Pz = 0\n",
    "    \n",
    "    total_P_noneu = 0\n",
    "    total_Px_noneu = 0\n",
    "    total_Py_noneu = 0\n",
    "    total_Pz_noneu = 0\n",
    "    \n",
    "    lead_P = 0\n",
    "    lead_Px = 0\n",
    "    lead_Py = 0\n",
    "    lead_Pz = 0\n",
    "    \n",
    "    lead_P_noneu = 0\n",
    "    lead_Px_noneu = 0\n",
    "    lead_Py_noneu = 0\n",
    "    lead_Pz_noneu = 0\n",
    "    \n",
    "    \n",
    "    for j in particles:\n",
    "        \n",
    "        Parg = \"i.%sP\" % j\n",
    "        Pxarg = \"i.%sPx\" %j\n",
    "        Pyarg = \"i.%sPy\" %j\n",
    "        Pzarg = \"i.%sPz\" %j\n",
    "        \n",
    "        # everything within this if statement used to calculate \"no neutron\" statistics\n",
    "        if (j != 'Neutron'):\n",
    "\n",
    "            if len(eval(Parg)) > 0:\n",
    "\n",
    "                for k in range(len(eval(Parg))):\n",
    "                    if (eval(Parg)[k] > lead_P_noneu):\n",
    "                        lead_P_noneu = eval(Parg)[k]\n",
    "                        lead_Px_noneu = eval(Pxarg)[k]\n",
    "                        lead_Py_noneu = eval(Pyarg)[k]\n",
    "                        lead_Pz_noneu = eval(Pzarg)[k]\n",
    "                \n",
    "                    total_P_noneu += eval(Parg)[k]\n",
    "                    total_Px_noneu += eval(Pxarg)[k]\n",
    "                    total_Py_noneu += eval(Pyarg)[k]\n",
    "                    total_Pz_noneu += eval(Pzarg)[k]\n",
    "        \n",
    "        # now we consider all particle types and find total momentum and leading particle momentum statistics\n",
    "        if len(eval(Parg)) > 0:\n",
    "\n",
    "                for k in range(len(eval(Parg))):\n",
    "                    if (eval(Parg)[k] > lead_P):\n",
    "                        lead_P = eval(Parg)[k]\n",
    "                        lead_Px = eval(Pxarg)[k]\n",
    "                        lead_Py = eval(Pyarg)[k]\n",
    "                        lead_Pz = eval(Pzarg)[k]\n",
    "                    \n",
    "                    total_P += eval(Parg)[k]\n",
    "                    total_Px += eval(Pxarg)[k]\n",
    "                    total_Py += eval(Pyarg)[k]\n",
    "                    total_Pz += eval(Pzarg)[k]\n",
    "            \n",
    "                    \n",
    "    # check for events where only neutrons are present\n",
    "    if (i.nProtons == 0 and i.nPions == 0 and i.nPi0s == 0 and i.nMesons == 0 and i.nBaryons == 0 and i.nNeutrons != 0):\n",
    "        if (len(i.NeutronP) > 0):\n",
    "            n_only_ev += 1\n",
    "            \n",
    "#             if (i.nParticles != i.nNeutrons + i.nProtons + i.nPions + i.nPi0s + i.nMesons + i.nBaryons):\n",
    "#             print \"EVENT SCAN\"\n",
    "#             print \"Number of Genie: %d\" % i.nGENIE\n",
    "#             print \"Number of Ar40: %d\" % i.nAr40\n",
    "#             print \"Number of Ar39: %d\" % i.nAr39\n",
    "#             print \"Number of Cl39: %d\" % i.nCl39\n",
    "#             print \"Number of neutrons: %d\" % i.nNeutrons\n",
    "#             print \"Number of protons: %d\" % i.nProtons\n",
    "#             print \"Number of pions: %d\" % i.nPions\n",
    "#             print \"Number of pi0s: %d\" % i.nPi0s\n",
    "#             print \"Number of mesons: %d\" % i.nMesons\n",
    "#             print \"Number of baryons: %d\" % i.nBaryons\n",
    "#             print \"Total num of particles: %d\" % i.nParticles\n",
    "#             print \"\\n\"\n",
    "    \n",
    "    # now check for events where other particles may be present with neutrons but they have 0 total momentum\n",
    "   # if ( i.nNeutrons != 0 and ((len(i.BaryonP) == 0 and i.nBaryons != 0) or (len(i.MesonP) == 0 and i.nMesons != 0) or (len(i.Pi0P) == 0 and i.nPi0s != 0) or (len(i.PionP) == 0 and i.nPions != 0) or (len(i.ProtonP) == 0 and i.nProtons != 0)) ):\n",
    "#         print \"Number of protons is: %d\" % i.nProtons\n",
    "#         for j in range(i.nProtons):\n",
    "#             print \"Proton %d\" % j\n",
    "#             print \"P: %f\" % i.ProtonP[j]\n",
    "#             print \"E: %f\\n\" % i.ProtonE[j]\n",
    "            \n",
    "#         print \"Number of pions is: %d\" % i.nPions\n",
    "#         for j in range(i.nPions):\n",
    "#             print \"Pion %d\" % j\n",
    "#             print \"P: %f\" % i.PionP[j]\n",
    "#             print \"E: %f\\n\" % i.PionE[j]\n",
    "            \n",
    "#         print \"Number of pi0s is: %d\" % i.nPi0s\n",
    "#         for j in range(i.nPi0s):\n",
    "#             print \"Pi0 %d\" % j\n",
    "#             print \"P: %f\" % i.Pi0P[j]\n",
    "#             print \"E: %f\\n\" % i.Pi0E[j]\n",
    "            \n",
    "#         print \"Number of mesons is: %d\" % i.nMesons\n",
    "#         for j in range(i.nMesons):\n",
    "#             print \"Meson %d\" % j\n",
    "#             print \"P: %f\" % i.MesonP[j]\n",
    "#             print \"E: %f\\n\" % i.MesonE[j]\n",
    "            \n",
    "#         print \"Number of baryons is: %d\" % i.nBaryons\n",
    "#         for j in range(i.nBaryons):\n",
    "#             print \"Baryon %d\" % j\n",
    "#             print \"P: %f\" % i.BaryonP[j]\n",
    "#             print \"E: %f\\n\" % i.BaryonE[j]\n",
    "#         print \"\\n\"\n",
    "#     if ( i.nNeutrons != 0 and i.nProtons == 0 and i.nPions == 0 and i.nPi0s == 0 and i.nMesons == 0 and i.nBaryons == 0 ):\n",
    "#         if (len(i.NeutronP) > 0):\n",
    "#             test2 += 1\n",
    "    \n",
    "    # test2 is number of events (all particles considered) that aren't counted because of zero leading momentum\n",
    "    # test3 is number of events (excluding neutrons) that aren't counted because of zero leading momentum\n",
    "    if (lead_P == 0):\n",
    "        test2 += 1\n",
    "    if (lead_P_noneu == 0):\n",
    "        test3 += 1\n",
    "        \n",
    "    # calculate the relevant angles using the appropriate vectors and vector products\n",
    "    if (lead_P > 0):            \n",
    "        numerator1 = i.InDMPx[0] * lead_Px + i.InDMPy[0] * lead_Py + i.InDMPz[0] * lead_Pz\n",
    "        denominator1 = i.InDMP[0] * lead_P\n",
    "        lead_particle_P_ang.append(math.acos(numerator1/denominator1))\n",
    "    \n",
    "    if (total_P > 0):\n",
    "        numerator2 = i.InDMPx[0] * total_Px + i.InDMPy[0] * total_Py + i.InDMPz[0] * total_Pz\n",
    "        denominator2 = i.InDMP[0] * total_P\n",
    "        total_P_ang.append(math.acos(numerator2/denominator2))\n",
    "        \n",
    "    if (lead_P_noneu > 0):\n",
    "        numerator3 = i.InDMPx[0] * lead_Px_noneu + i.InDMPy[0] * lead_Py_noneu + i.InDMPz[0] * lead_Pz_noneu\n",
    "        denominator3 = i.InDMP[0] * lead_P_noneu\n",
    "        lead_particle_P_noneu_ang.append(math.acos(numerator3/denominator3))\n",
    "        \n",
    "    if (total_P_noneu > 0):\n",
    "        numerator4 = i.InDMPx[0] * total_Px_noneu + i.InDMPy[0] * total_Py_noneu + i.InDMPz[0] * total_Pz_noneu\n",
    "        denominator4 = i.InDMP[0] * total_P_noneu\n",
    "        total_P_noneu_ang.append(math.acos(numerator4/denominator4))\n",
    "        \n",
    "    \n",
    "    # now we fill lead_proton_ang\n",
    "    # -----------------------------------------------------------\n",
    "    if (i.nProtons > 0):\n",
    "        lead_proton_P = 0\n",
    "        lead_proton_Px = 0\n",
    "        lead_proton_Py = 0\n",
    "        lead_proton_Pz = 0\n",
    "        for j in range(i.nProtons):\n",
    "            if (i.ProtonP[j] > lead_proton_P):\n",
    "                lead_proton_P = i.ProtonP[j]\n",
    "                lead_proton_Px = i.ProtonPx[j]\n",
    "                lead_proton_Py = i.ProtonPy[j]\n",
    "                lead_proton_Pz = i.ProtonPz[j]\n",
    "\n",
    "        if (lead_proton_P > 0):\n",
    "            numerator5 = i.InDMPx[0] * lead_proton_Px + i.InDMPy[0] * lead_proton_Py + i.InDMPz[0] * lead_proton_Pz\n",
    "            denominator5 = i.InDMP[0] * lead_proton_P\n",
    "            lead_proton_P_ang.append(math.acos(numerator5/denominator5))"
   ]
  },
  {
   "cell_type": "code",
   "execution_count": 4,
   "metadata": {},
   "outputs": [
    {
     "data": {
      "image/png": "[encoded data removed]",
      "text/plain": [
       "<IPython.core.display.Image object>"
      ]
     },
     "metadata": {},
     "output_type": "display_data"
    },
    {
     "data": {
      "image/png": "[encoded data removed]",
      "text/plain": [
       "<IPython.core.display.Image object>"
      ]
     },
     "metadata": {},
     "output_type": "display_data"
    },
    {
     "data": {
      "image/png": "[encoded data removed]",
      "text/plain": [
       "<IPython.core.display.Image object>"
      ]
     },
     "metadata": {},
     "output_type": "display_data"
    }
   ],
   "source": [
    "h_totalP_ang = ROOT.TH1F(\"totalP_ang\", \"\", 35, 0, max(total_P_noneu_ang)*1.1)\n",
    "c_totalP_ang = ROOT.TCanvas(\"totalP_ang\", \"TotalP Angle\", 900, 700)\n",
    "c_totalP_ang.SetBottomMargin(0.15)\n",
    "c_totalP_ang.SetLeftMargin(0.2)\n",
    "\n",
    "h_totalP_ang.GetXaxis().SetTitle(\"TotalP-DM Angle [rad]\")\n",
    "h_totalP_ang.GetYaxis().SetTitle(\"Events\")\n",
    "h_totalP_ang.SetLineWidth(2)\n",
    "h_totalP_ang.GetXaxis().SetLabelFont(132)\n",
    "h_totalP_ang.GetYaxis().SetTitleFont(132)\n",
    "\n",
    "h_totalP_ang.GetXaxis().SetLabelSize(0.05)\n",
    "h_totalP_ang.GetXaxis().SetTitleSize(0.05)\n",
    "h_totalP_ang.GetYaxis().SetLabelSize(0.05)\n",
    "h_totalP_ang.GetYaxis().SetTitleSize(0.05)\n",
    "\n",
    "c_totalP_ang.Draw()\n",
    "h_totalP_ang.Draw()\n",
    "\n",
    "\n",
    "h_totalP_noneu_ang = ROOT.TH1F(\"totalP_noneu_ang\", \"\", 35, 0, max(total_P_noneu_ang)*1.1)\n",
    "h_totalP_noneu_ang.SetLineWidth(2)\n",
    "h_totalP_noneu_ang.SetLineColor(2)\n",
    "h_totalP_noneu_ang.GetXaxis().SetLabelFont(132)\n",
    "h_totalP_noneu_ang.GetYaxis().SetTitleFont(132)\n",
    "\n",
    "h_totalP_noneu_ang.GetXaxis().SetLabelSize(0.05)\n",
    "h_totalP_noneu_ang.GetXaxis().SetTitleSize(0.05)\n",
    "h_totalP_noneu_ang.GetYaxis().SetLabelSize(0.05)\n",
    "h_totalP_noneu_ang.GetYaxis().SetTitleSize(0.05)\n",
    "\n",
    "h_totalP_noneu_ang.Draw(\"SAME\")\n",
    "\n",
    "\n",
    "legend1 = ROOT.TLegend(0.9, 0.7, 0.65, 0.9)\n",
    "legend1.SetHeader(\"Legend\", \"C\")\n",
    "legend1.AddEntry(h_totalP_ang, \"all particles\", \"f\")\n",
    "legend1.AddEntry(h_totalP_noneu_ang, \"no neutrons\", \"f\")\n",
    "legend1.Draw()\n",
    "legend1.SetTextSize(0.035)\n",
    "legend1.SetTextFont(132)\n",
    "\n",
    "# -------------------------------------------------------------------------------------\n",
    "\n",
    "h_leadP_ang = ROOT.TH1F(\"leadP_particle_ang\", \"\", 35, 0, max(lead_particle_P_noneu_ang)*1.1)\n",
    "c_leadP_ang = ROOT.TCanvas(\"leadP_particle_ang\", \"LeadingP Particle Angle\", 900, 700)\n",
    "c_leadP_ang.SetBottomMargin(0.15)\n",
    "c_leadP_ang.SetLeftMargin(0.2)\n",
    "\n",
    "h_leadP_ang.GetXaxis().SetTitle(\"LeadingP Particle-DM Angle [rad]\")\n",
    "h_leadP_ang.GetYaxis().SetTitle(\"Events\")\n",
    "h_leadP_ang.SetLineWidth(2)\n",
    "h_leadP_ang.GetXaxis().SetLabelFont(132)\n",
    "h_leadP_ang.GetYaxis().SetTitleFont(132)\n",
    "\n",
    "h_leadP_ang.GetXaxis().SetLabelSize(0.05)\n",
    "h_leadP_ang.GetXaxis().SetTitleSize(0.05)\n",
    "h_leadP_ang.GetYaxis().SetLabelSize(0.05)\n",
    "h_leadP_ang.GetYaxis().SetTitleSize(0.05)\n",
    "\n",
    "c_leadP_ang.Draw()\n",
    "h_leadP_ang.Draw()\n",
    "\n",
    "\n",
    "h_leadP_noneu_ang = ROOT.TH1F(\"leadP_particle_noneu_ang\", \"\", 35, 0, max(lead_particle_P_noneu_ang)*1.1)\n",
    "h_leadP_noneu_ang.SetLineWidth(2)\n",
    "h_leadP_noneu_ang.SetLineColor(2)\n",
    "h_leadP_noneu_ang.GetXaxis().SetLabelFont(132)\n",
    "h_leadP_noneu_ang.GetYaxis().SetTitleFont(132)\n",
    "\n",
    "h_leadP_noneu_ang.GetXaxis().SetLabelSize(0.05)\n",
    "h_leadP_noneu_ang.GetXaxis().SetTitleSize(0.05)\n",
    "h_leadP_noneu_ang.GetYaxis().SetLabelSize(0.05)\n",
    "h_leadP_noneu_ang.GetYaxis().SetTitleSize(0.05)\n",
    "\n",
    "h_leadP_noneu_ang.Draw(\"SAME\")\n",
    "\n",
    "\n",
    "legend2 = ROOT.TLegend(0.9, 0.7, 0.65, 0.9)\n",
    "legend2.SetHeader(\"Legend\", \"C\")\n",
    "legend2.AddEntry(h_leadP_ang, \"all particles\", \"f\")\n",
    "legend2.AddEntry(h_leadP_noneu_ang, \"no neutrons\", \"f\")\n",
    "legend2.Draw()\n",
    "legend2.SetTextSize(0.035)\n",
    "legend2.SetTextFont(132)\n",
    "\n",
    "# -------------------------------------------------------------------------------------\n",
    "\n",
    "h_leadP_proton_ang = ROOT.TH1F(\"leadP_proton_ang\", \"\", 35, 0, max(lead_proton_P_ang)*1.1)\n",
    "c_leadP_proton_ang = ROOT.TCanvas(\"leadP_proton_ang\", \"LeadP Proton Angle\", 900, 700)\n",
    "c_leadP_proton_ang.SetBottomMargin(0.15)\n",
    "c_leadP_proton_ang.SetLeftMargin(0.2)\n",
    "\n",
    "h_leadP_proton_ang.GetXaxis().SetTitle(\"LeadP Proton-DM Angle [rad]\")\n",
    "h_leadP_proton_ang.GetYaxis().SetTitle(\"Events\")\n",
    "h_leadP_proton_ang.SetLineWidth(2)\n",
    "h_leadP_proton_ang.GetXaxis().SetLabelFont(132)\n",
    "h_leadP_proton_ang.GetYaxis().SetTitleFont(132)\n",
    "\n",
    "h_leadP_proton_ang.GetXaxis().SetLabelSize(0.05)\n",
    "h_leadP_proton_ang.GetXaxis().SetTitleSize(0.05)\n",
    "h_leadP_proton_ang.GetYaxis().SetLabelSize(0.05)\n",
    "h_leadP_proton_ang.GetYaxis().SetTitleSize(0.05)\n",
    "\n",
    "c_leadP_proton_ang.Draw()\n",
    "h_leadP_proton_ang.Draw()\n",
    "\n",
    "# -------------------------------------------------------------------------------------\n",
    "\n",
    "# now fill the histograms\n",
    "\n",
    "for i in total_P_ang:\n",
    "    h_totalP_ang.Fill(i)\n",
    "    \n",
    "for i in total_P_noneu_ang:\n",
    "    h_totalP_noneu_ang.Fill(i)\n",
    "    \n",
    "for i in lead_particle_P_ang:\n",
    "    h_leadP_ang.Fill(i)\n",
    "\n",
    "for i in lead_particle_P_noneu_ang:\n",
    "    h_leadP_noneu_ang.Fill(i)\n",
    "\n",
    "for i in lead_proton_P_ang:\n",
    "    h_leadP_proton_ang.Fill(i)"
   ]
  },
  {
   "cell_type": "code",
   "execution_count": 5,
   "metadata": {},
   "outputs": [
    {
     "name": "stdout",
     "output_type": "stream",
     "text": [
      "949\n",
      "949\n"
     ]
    }
   ],
   "source": [
    "diff1 = len(lead_particle_P_ang) - len(lead_particle_P_noneu_ang)\n",
    "diff2 = len(total_P_ang) - len(total_P_noneu_ang)\n",
    "print diff1\n",
    "print diff2"
   ]
  },
  {
   "cell_type": "code",
   "execution_count": 6,
   "metadata": {},
   "outputs": [
    {
     "name": "stdout",
     "output_type": "stream",
     "text": [
      "744\n"
     ]
    }
   ],
   "source": [
    "print n_only_ev"
   ]
  },
  {
   "cell_type": "code",
   "execution_count": 7,
   "metadata": {},
   "outputs": [
    {
     "name": "stdout",
     "output_type": "stream",
     "text": [
      "949\n"
     ]
    }
   ],
   "source": [
    "print (test3 - test2)"
   ]
  },
  {
   "cell_type": "code",
   "execution_count": 8,
   "metadata": {},
   "outputs": [
    {
     "name": "stderr",
     "output_type": "stream",
     "text": [
      "Info in <TCanvas::Print>: pdf file Angle_Data.pdf has been created using the current canvas\n",
      "Info in <TCanvas::Print>: Current canvas added to pdf file Angle_Data.pdf\n",
      "Info in <TCanvas::Print>: Current canvas added to pdf file Angle_Data.pdf and file closed\n"
     ]
    }
   ],
   "source": [
    "c_totalP_ang.Print('Angle_Data.pdf(')\n",
    "c_leadP_ang.Print('Angle_Data.pdf')\n",
    "c_leadP_proton_ang.SaveAs('Angle_Data.pdf)')"
   ]
  },
  {
   "cell_type": "code",
   "execution_count": null,
   "metadata": {},
   "outputs": [],
   "source": []
  }
 ],
 "metadata": {
  "kernelspec": {
   "display_name": "Python 2",
   "language": "python",
   "name": "python2"
  },
  "language_info": {
   "codemirror_mode": {
    "name": "ipython",
    "version": 2
   },
   "file_extension": ".py",
   "mimetype": "text/x-python",
   "name": "python",
   "nbconvert_exporter": "python",
   "pygments_lexer": "ipython2",
   "version": "2.7.14"
  }
 },
 "nbformat": 4,
 "nbformat_minor": 2
}
